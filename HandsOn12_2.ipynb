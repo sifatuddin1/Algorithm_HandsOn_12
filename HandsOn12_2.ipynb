{
 "cells": [
  {
   "cell_type": "code",
   "execution_count": null,
   "metadata": {},
   "outputs": [],
   "source": []
  },
  {
   "cell_type": "markdown",
   "metadata": {},
   "source": [
    "Aggregate method\n"
   ]
  },
  {
   "cell_type": "code",
   "execution_count": 1,
   "metadata": {},
   "outputs": [
    {
     "name": "stdout",
     "output_type": "stream",
     "text": [
      "Aggregate Method\n",
      "Total actual cost: 2047\n",
      "Amortized cost per insertion: 1.9990234375\n"
     ]
    }
   ],
   "source": [
    "class DynamicArrayAggregate:\n",
    "    def __init__(self, initial_capacity=1):\n",
    "        self.capacity = initial_capacity\n",
    "        self.size = 0\n",
    "        self.data = [None] * self.capacity\n",
    "        self.total_cost = 0\n",
    "\n",
    "    def push_back(self, x):\n",
    "        self.total_cost += 1\n",
    "        if self.size == self.capacity:\n",
    "            self.total_cost += self.capacity\n",
    "            new_capacity = self.capacity * 2\n",
    "            new_data = [None] * new_capacity\n",
    "            for i in range(self.size):\n",
    "                new_data[i] = self.data[i]\n",
    "            self.data = new_data\n",
    "            self.capacity = new_capacity\n",
    "        self.data[self.size] = x\n",
    "        self.size += 1\n",
    "\n",
    "\n",
    "n = 1024\n",
    "\n",
    "agg = DynamicArrayAggregate(1)\n",
    "for i in range(n):\n",
    "    agg.push_back(i)\n",
    "print(\"Aggregate Method\")\n",
    "print(\"Total actual cost:\", agg.total_cost)\n",
    "print(\"Amortized cost per insertion:\", agg.total_cost / n)\n",
    "\n",
    "\n"
   ]
  },
  {
   "cell_type": "markdown",
   "metadata": {},
   "source": [
    "Accounting method\n"
   ]
  },
  {
   "cell_type": "code",
   "execution_count": 2,
   "metadata": {},
   "outputs": [
    {
     "name": "stdout",
     "output_type": "stream",
     "text": [
      "Accounting Method\n",
      "Total amortized cost: 3072\n",
      "Final credit remaining: 1025\n",
      "Amortized cost per insertion: 3.0\n"
     ]
    }
   ],
   "source": [
    "\n",
    "class DynamicArrayAccounting:\n",
    "    def __init__(self, initial_capacity=1):\n",
    "        self.capacity = initial_capacity\n",
    "        self.size = 0\n",
    "        self.data = [None] * self.capacity\n",
    "        self.amortized_total = 0\n",
    "        self.credit = 0\n",
    "\n",
    "    def push_back(self, x):\n",
    "        self.amortized_total += 3\n",
    "        if self.size == self.capacity:\n",
    "            self.credit -= self.capacity\n",
    "            new_capacity = self.capacity * 2\n",
    "            new_data = [None] * new_capacity\n",
    "            for i in range(self.size):\n",
    "                new_data[i] = self.data[i]\n",
    "            self.data = new_data\n",
    "            self.capacity = new_capacity\n",
    "        self.credit += (3 - 1)\n",
    "        self.data[self.size] = x\n",
    "        self.size += 1\n",
    "\n",
    "n = 1024\n",
    "\n",
    "\n",
    "\n",
    "acc = DynamicArrayAccounting(1)\n",
    "for i in range(n):\n",
    "    acc.push_back(i)\n",
    "print(\"Accounting Method\")\n",
    "print(\"Total amortized cost:\", acc.amortized_total)\n",
    "print(\"Final credit remaining:\", acc.credit)\n",
    "print(\"Amortized cost per insertion:\", acc.amortized_total / n)\n"
   ]
  }
 ],
 "metadata": {
  "kernelspec": {
   "display_name": "Python 3",
   "language": "python",
   "name": "python3"
  },
  "language_info": {
   "codemirror_mode": {
    "name": "ipython",
    "version": 3
   },
   "file_extension": ".py",
   "mimetype": "text/x-python",
   "name": "python",
   "nbconvert_exporter": "python",
   "pygments_lexer": "ipython3",
   "version": "3.13.2"
  }
 },
 "nbformat": 4,
 "nbformat_minor": 2
}
