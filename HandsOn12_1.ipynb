{
 "cells": [
  {
   "cell_type": "code",
   "execution_count": 1,
   "metadata": {},
   "outputs": [],
   "source": [
    "class DynamicArray:\n",
    "    def __init__(self, initial_capacity=4):\n",
    "        self._capacity = initial_capacity\n",
    "        self._size = 0\n",
    "        self._data = [None] * self._capacity\n",
    "\n",
    "    def __len__(self):\n",
    "        return self._size\n",
    "\n",
    "    def __getitem__(self, index):\n",
    "        if not 0 <= index < self._size:\n",
    "            raise IndexError(\"Index out of bounds\")\n",
    "        return self._data[index]\n",
    "\n",
    "    def push_back(self, item):\n",
    "        if self._size == self._capacity:\n",
    "            self._resize(self._capacity * 2)\n",
    "        self._data[self._size] = item\n",
    "        self._size += 1\n",
    "\n",
    "    def pop_back(self):\n",
    "        if self._size == 0:\n",
    "            raise IndexError(\"pop_back from empty DynamicArray\")\n",
    "        value = self._data[self._size - 1]\n",
    "        self._data[self._size - 1] = None\n",
    "        self._size -= 1\n",
    "        return value\n",
    "\n",
    "    def _resize(self, new_capacity):\n",
    "        new_data = [None] * new_capacity\n",
    "        for i in range(self._size):\n",
    "            new_data[i] = self._data[i]\n",
    "        self._data = new_data\n",
    "        self._capacity = new_capacity\n",
    "\n",
    "    def __iter__(self):\n",
    "        for i in range(self._size):\n",
    "            yield self._data[i]\n",
    "\n",
    "    def __str__(self):\n",
    "        return \"[\" + \", \".join(str(self._data[i]) for i in range(self._size)) + \"]\"\n",
    "\n",
    "\n"
   ]
  },
  {
   "cell_type": "code",
   "execution_count": 2,
   "metadata": {},
   "outputs": [
    {
     "name": "stdout",
     "output_type": "stream",
     "text": [
      "After push_back(1): [1] (Size: 1, Capacity: 4)\n",
      "After push_back(2): [1, 2] (Size: 2, Capacity: 4)\n",
      "After push_back(3): [1, 2, 3] (Size: 3, Capacity: 4)\n",
      "After push_back(4): [1, 2, 3, 4] (Size: 4, Capacity: 4)\n",
      "After push_back(5): [1, 2, 3, 4, 5] (Size: 5, Capacity: 8)\n",
      "After push_back(6): [1, 2, 3, 4, 5, 6] (Size: 6, Capacity: 8)\n",
      "After push_back(7): [1, 2, 3, 4, 5, 6, 7] (Size: 7, Capacity: 8)\n",
      "After push_back(8): [1, 2, 3, 4, 5, 6, 7, 8] (Size: 8, Capacity: 8)\n",
      "After push_back(9): [1, 2, 3, 4, 5, 6, 7, 8, 9] (Size: 9, Capacity: 16)\n",
      "After push_back(10): [1, 2, 3, 4, 5, 6, 7, 8, 9, 10] (Size: 10, Capacity: 16)\n",
      "Popped elements: 10 and 9\n",
      "Array after pops: [1, 2, 3, 4, 5, 6, 7, 8] (Size: 8, Capacity: 16)\n"
     ]
    }
   ],
   "source": [
    "if __name__ == \"__main__\":\n",
    "    arr = DynamicArray(initial_capacity=4)\n",
    "    for i in range(1, 11):\n",
    "        arr.push_back(i)\n",
    "        print(f\"After push_back({i}): {arr} (Size: {len(arr)}, Capacity: {arr._capacity})\")\n",
    "    popped1 = arr.pop_back()\n",
    "    popped2 = arr.pop_back()\n",
    "    print(f\"Popped elements: {popped1} and {popped2}\")\n",
    "    print(f\"Array after pops: {arr} (Size: {len(arr)}, Capacity: {arr._capacity})\")\n"
   ]
  }
 ],
 "metadata": {
  "kernelspec": {
   "display_name": "Python 3",
   "language": "python",
   "name": "python3"
  },
  "language_info": {
   "codemirror_mode": {
    "name": "ipython",
    "version": 3
   },
   "file_extension": ".py",
   "mimetype": "text/x-python",
   "name": "python",
   "nbconvert_exporter": "python",
   "pygments_lexer": "ipython3",
   "version": "3.13.2"
  }
 },
 "nbformat": 4,
 "nbformat_minor": 2
}
